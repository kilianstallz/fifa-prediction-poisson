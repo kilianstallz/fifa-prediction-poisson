{
 "cells": [
  {
   "cell_type": "code",
   "execution_count": 72,
   "metadata": {
    "collapsed": true
   },
   "outputs": [],
   "source": [
    "import pandas as pd\n",
    "import pickle\n",
    "from scipy.stats import poisson"
   ]
  },
  {
   "cell_type": "code",
   "execution_count": 73,
   "outputs": [],
   "source": [
    "group_table = pickle.load(open('group_table', 'rb'))\n",
    "df_historical = pd.read_csv('./historic_matches.csv')\n",
    "df_fixture = pd.read_csv('./current_cup_fixture.csv')"
   ],
   "metadata": {
    "collapsed": false
   }
  },
  {
   "cell_type": "code",
   "execution_count": 74,
   "outputs": [
    {
     "data": {
      "text/plain": "{'Group A':    Pos         Team  Pld  W  D  L  GF  GA  GD  Pts\n 0    1  Netherlands    3  2  1  0   5   1  +4    7\n 1    2      Senegal    3  2  0  1   5   4  +1    6\n 2    3      Ecuador    3  1  1  1   4   3  +1    4\n 3    4    Qatar (H)    3  0  0  3   1   7  −6    0,\n 'Group B':    Pos           Team  Pld  W  D  L  GF  GA  GD  Pts\n 0    1        England    3  2  1  0   9   2  +7    7\n 1    2  United States    3  1  2  0   2   1  +1    5\n 2    3           Iran    3  1  0  2   4   7  −3    3\n 3    4          Wales    3  0  1  2   1   6  −5    1,\n 'Group C':    Pos          Team  Pld  W  D  L  GF  GA  GD  Pts\n 0    1     Argentina    3  2  0  1   5   2  +3    6\n 1    2        Poland    3  1  1  1   2   2   0    4\n 2    3        Mexico    3  1  1  1   2   3  −1    4\n 3    4  Saudi Arabia    3  1  0  2   3   5  −2    3,\n 'Group D':    Pos       Team  Pld  W  D  L  GF  GA  GD  Pts\n 0    1     France    3  2  0  1   6   3  +3    6\n 1    2  Australia    3  2  0  1   3   4  −1    6\n 2    3    Tunisia    3  1  1  1   1   1   0    4\n 3    4    Denmark    3  0  1  2   1   3  −2    1,\n 'Group E':    Pos        Team  Pld  W  D  L  GF  GA  GD  Pts\n 0    1       Japan    3  2  0  1   4   3  +1    6\n 1    2       Spain    3  1  1  1   9   3  +6    4\n 2    3     Germany    3  1  1  1   6   5  +1    4\n 3    4  Costa Rica    3  1  0  2   3  11  −8    3,\n 'Group F':    Pos     Team  Pld  W  D  L  GF  GA  GD  Pts\n 0    1  Morocco    3  2  1  0   4   1  +3    7\n 1    2  Croatia    3  1  2  0   4   1  +3    5\n 2    3  Belgium    3  1  1  1   1   2  −1    4\n 3    4   Canada    3  0  0  3   2   7  −5    0,\n 'Group G':    Pos         Team  Pld  W  D  L  GF  GA  GD  Pts\n 0    1       Brazil    3  2  0  1   3   1  +2    6\n 1    2  Switzerland    3  2  0  1   4   3  +1    6\n 2    3     Cameroon    3  1  1  1   4   4   0    4\n 3    4       Serbia    3  0  1  2   5   8  −3    1,\n 'Group H':    Pos         Team  Pld  W  D  L  GF  GA  GD  Pts\n 0    1     Portugal    3  2  0  1   6   4  +2    6\n 1    2  South Korea    3  1  1  1   4   4   0    4\n 2    3      Uruguay    3  1  1  1   2   2   0    4\n 3    4        Ghana    3  1  0  2   5   7  −2    3}"
     },
     "execution_count": 74,
     "metadata": {},
     "output_type": "execute_result"
    }
   ],
   "source": [
    "group_table"
   ],
   "metadata": {
    "collapsed": false
   }
  },
  {
   "cell_type": "markdown",
   "source": [
    "# 1 Calculate Team Strength"
   ],
   "metadata": {
    "collapsed": false
   }
  },
  {
   "cell_type": "code",
   "execution_count": 75,
   "outputs": [],
   "source": [
    "df_team1 = df_historical[['team1', \"goals\", \"goalsGotten\"]]\n",
    "df_team2 = df_historical[['team2', \"goals\", \"goalsGotten\"]]"
   ],
   "metadata": {
    "collapsed": false
   }
  },
  {
   "cell_type": "code",
   "execution_count": 76,
   "outputs": [],
   "source": [
    "# rename cols\n",
    "df_home = df_team1.rename(columns={'team1': \"Team\", \"goals\": \"GoalsScored\", \"goalsGotten\": 'GoalsConceded'})\n",
    "df_away = df_team2.rename(columns={'team2': \"Team\", \"goals\": \"GoalsConceded\", \"goalsGotten\": 'GoalsScored'})"
   ],
   "metadata": {
    "collapsed": false
   }
  },
  {
   "cell_type": "code",
   "execution_count": 77,
   "outputs": [
    {
     "data": {
      "text/plain": "                        GoalsScored  GoalsConceded\nTeam                                              \nAlgeria                    1.000000       1.285714\nAngola                     0.333333       0.666667\nArgentina                  1.680000       1.000000\nAustralia                  1.000000       1.882353\nBelgium                    1.533333       0.733333\nBosnia and Herzegovina     1.333333       1.333333\nBrazil                     1.640000       0.960000\nCameroon                   0.777778       2.000000\nCanada                     0.666667       2.333333\nChile                      1.125000       1.125000\nColombia                   2.000000       0.777778\nCosta Rica                 0.928571       1.928571\nCroatia                    1.625000       1.187500\nCzech Republic             1.000000       1.333333\nDenmark                    0.700000       1.100000\nEcuador                    1.200000       1.000000\nEgypt                      0.666667       2.000000\nEngland                    1.521739       0.913043\nFrance                     1.653846       0.769231\nGermany                    2.074074       0.888889\nGhana                      1.200000       1.533333\nGreece                     0.714286       1.428571\nHonduras                   0.166667       1.833333\nIceland                    0.666667       1.666667\nIran                       0.750000       1.583333\nItaly                      1.384615       0.769231\nIvory Coast                1.444444       1.555556\nJapan                      1.058824       1.470588\nMexico                     1.000000       1.157895\nMorocco                    1.000000       0.833333\nNetherlands                1.727273       0.636364\nNew Zealand                0.666667       0.666667\nNigeria                    0.900000       1.400000\nNorth Korea                0.333333       4.000000\nPanama                     0.666667       3.666667\nParaguay                   0.625000       0.500000\nPeru                       0.666667       0.666667\nPoland                     0.700000       1.400000\nPortugal                   1.428571       1.095238\nQatar                      0.333333       2.333333\nRussia                     1.625000       1.250000\nSaudi Arabia               0.777778       2.111111\nSenegal                    1.285714       1.571429\nSerbia                     1.000000       1.666667\nSerbia and Montenegro      0.666667       3.333333\nSlovakia                   1.250000       1.750000\nSlovenia                   1.000000       1.000000\nSouth Africa               1.000000       1.666667\nSouth Korea                1.187500       1.562500\nSpain                      1.761905       1.047619\nSweden                     1.000000       0.888889\nSwitzerland                1.166667       0.888889\nTogo                       0.333333       2.000000\nTrinidad and Tobago        0.000000       1.333333\nTunisia                    1.000000       1.666667\nUkraine                    1.000000       1.400000\nUnited States              1.000000       1.400000\nUruguay                    1.263158       1.000000\nWales                      0.333333       2.000000",
      "text/html": "<div>\n<style scoped>\n    .dataframe tbody tr th:only-of-type {\n        vertical-align: middle;\n    }\n\n    .dataframe tbody tr th {\n        vertical-align: top;\n    }\n\n    .dataframe thead th {\n        text-align: right;\n    }\n</style>\n<table border=\"1\" class=\"dataframe\">\n  <thead>\n    <tr style=\"text-align: right;\">\n      <th></th>\n      <th>GoalsScored</th>\n      <th>GoalsConceded</th>\n    </tr>\n    <tr>\n      <th>Team</th>\n      <th></th>\n      <th></th>\n    </tr>\n  </thead>\n  <tbody>\n    <tr>\n      <th>Algeria</th>\n      <td>1.000000</td>\n      <td>1.285714</td>\n    </tr>\n    <tr>\n      <th>Angola</th>\n      <td>0.333333</td>\n      <td>0.666667</td>\n    </tr>\n    <tr>\n      <th>Argentina</th>\n      <td>1.680000</td>\n      <td>1.000000</td>\n    </tr>\n    <tr>\n      <th>Australia</th>\n      <td>1.000000</td>\n      <td>1.882353</td>\n    </tr>\n    <tr>\n      <th>Belgium</th>\n      <td>1.533333</td>\n      <td>0.733333</td>\n    </tr>\n    <tr>\n      <th>Bosnia and Herzegovina</th>\n      <td>1.333333</td>\n      <td>1.333333</td>\n    </tr>\n    <tr>\n      <th>Brazil</th>\n      <td>1.640000</td>\n      <td>0.960000</td>\n    </tr>\n    <tr>\n      <th>Cameroon</th>\n      <td>0.777778</td>\n      <td>2.000000</td>\n    </tr>\n    <tr>\n      <th>Canada</th>\n      <td>0.666667</td>\n      <td>2.333333</td>\n    </tr>\n    <tr>\n      <th>Chile</th>\n      <td>1.125000</td>\n      <td>1.125000</td>\n    </tr>\n    <tr>\n      <th>Colombia</th>\n      <td>2.000000</td>\n      <td>0.777778</td>\n    </tr>\n    <tr>\n      <th>Costa Rica</th>\n      <td>0.928571</td>\n      <td>1.928571</td>\n    </tr>\n    <tr>\n      <th>Croatia</th>\n      <td>1.625000</td>\n      <td>1.187500</td>\n    </tr>\n    <tr>\n      <th>Czech Republic</th>\n      <td>1.000000</td>\n      <td>1.333333</td>\n    </tr>\n    <tr>\n      <th>Denmark</th>\n      <td>0.700000</td>\n      <td>1.100000</td>\n    </tr>\n    <tr>\n      <th>Ecuador</th>\n      <td>1.200000</td>\n      <td>1.000000</td>\n    </tr>\n    <tr>\n      <th>Egypt</th>\n      <td>0.666667</td>\n      <td>2.000000</td>\n    </tr>\n    <tr>\n      <th>England</th>\n      <td>1.521739</td>\n      <td>0.913043</td>\n    </tr>\n    <tr>\n      <th>France</th>\n      <td>1.653846</td>\n      <td>0.769231</td>\n    </tr>\n    <tr>\n      <th>Germany</th>\n      <td>2.074074</td>\n      <td>0.888889</td>\n    </tr>\n    <tr>\n      <th>Ghana</th>\n      <td>1.200000</td>\n      <td>1.533333</td>\n    </tr>\n    <tr>\n      <th>Greece</th>\n      <td>0.714286</td>\n      <td>1.428571</td>\n    </tr>\n    <tr>\n      <th>Honduras</th>\n      <td>0.166667</td>\n      <td>1.833333</td>\n    </tr>\n    <tr>\n      <th>Iceland</th>\n      <td>0.666667</td>\n      <td>1.666667</td>\n    </tr>\n    <tr>\n      <th>Iran</th>\n      <td>0.750000</td>\n      <td>1.583333</td>\n    </tr>\n    <tr>\n      <th>Italy</th>\n      <td>1.384615</td>\n      <td>0.769231</td>\n    </tr>\n    <tr>\n      <th>Ivory Coast</th>\n      <td>1.444444</td>\n      <td>1.555556</td>\n    </tr>\n    <tr>\n      <th>Japan</th>\n      <td>1.058824</td>\n      <td>1.470588</td>\n    </tr>\n    <tr>\n      <th>Mexico</th>\n      <td>1.000000</td>\n      <td>1.157895</td>\n    </tr>\n    <tr>\n      <th>Morocco</th>\n      <td>1.000000</td>\n      <td>0.833333</td>\n    </tr>\n    <tr>\n      <th>Netherlands</th>\n      <td>1.727273</td>\n      <td>0.636364</td>\n    </tr>\n    <tr>\n      <th>New Zealand</th>\n      <td>0.666667</td>\n      <td>0.666667</td>\n    </tr>\n    <tr>\n      <th>Nigeria</th>\n      <td>0.900000</td>\n      <td>1.400000</td>\n    </tr>\n    <tr>\n      <th>North Korea</th>\n      <td>0.333333</td>\n      <td>4.000000</td>\n    </tr>\n    <tr>\n      <th>Panama</th>\n      <td>0.666667</td>\n      <td>3.666667</td>\n    </tr>\n    <tr>\n      <th>Paraguay</th>\n      <td>0.625000</td>\n      <td>0.500000</td>\n    </tr>\n    <tr>\n      <th>Peru</th>\n      <td>0.666667</td>\n      <td>0.666667</td>\n    </tr>\n    <tr>\n      <th>Poland</th>\n      <td>0.700000</td>\n      <td>1.400000</td>\n    </tr>\n    <tr>\n      <th>Portugal</th>\n      <td>1.428571</td>\n      <td>1.095238</td>\n    </tr>\n    <tr>\n      <th>Qatar</th>\n      <td>0.333333</td>\n      <td>2.333333</td>\n    </tr>\n    <tr>\n      <th>Russia</th>\n      <td>1.625000</td>\n      <td>1.250000</td>\n    </tr>\n    <tr>\n      <th>Saudi Arabia</th>\n      <td>0.777778</td>\n      <td>2.111111</td>\n    </tr>\n    <tr>\n      <th>Senegal</th>\n      <td>1.285714</td>\n      <td>1.571429</td>\n    </tr>\n    <tr>\n      <th>Serbia</th>\n      <td>1.000000</td>\n      <td>1.666667</td>\n    </tr>\n    <tr>\n      <th>Serbia and Montenegro</th>\n      <td>0.666667</td>\n      <td>3.333333</td>\n    </tr>\n    <tr>\n      <th>Slovakia</th>\n      <td>1.250000</td>\n      <td>1.750000</td>\n    </tr>\n    <tr>\n      <th>Slovenia</th>\n      <td>1.000000</td>\n      <td>1.000000</td>\n    </tr>\n    <tr>\n      <th>South Africa</th>\n      <td>1.000000</td>\n      <td>1.666667</td>\n    </tr>\n    <tr>\n      <th>South Korea</th>\n      <td>1.187500</td>\n      <td>1.562500</td>\n    </tr>\n    <tr>\n      <th>Spain</th>\n      <td>1.761905</td>\n      <td>1.047619</td>\n    </tr>\n    <tr>\n      <th>Sweden</th>\n      <td>1.000000</td>\n      <td>0.888889</td>\n    </tr>\n    <tr>\n      <th>Switzerland</th>\n      <td>1.166667</td>\n      <td>0.888889</td>\n    </tr>\n    <tr>\n      <th>Togo</th>\n      <td>0.333333</td>\n      <td>2.000000</td>\n    </tr>\n    <tr>\n      <th>Trinidad and Tobago</th>\n      <td>0.000000</td>\n      <td>1.333333</td>\n    </tr>\n    <tr>\n      <th>Tunisia</th>\n      <td>1.000000</td>\n      <td>1.666667</td>\n    </tr>\n    <tr>\n      <th>Ukraine</th>\n      <td>1.000000</td>\n      <td>1.400000</td>\n    </tr>\n    <tr>\n      <th>United States</th>\n      <td>1.000000</td>\n      <td>1.400000</td>\n    </tr>\n    <tr>\n      <th>Uruguay</th>\n      <td>1.263158</td>\n      <td>1.000000</td>\n    </tr>\n    <tr>\n      <th>Wales</th>\n      <td>0.333333</td>\n      <td>2.000000</td>\n    </tr>\n  </tbody>\n</table>\n</div>"
     },
     "execution_count": 77,
     "metadata": {},
     "output_type": "execute_result"
    }
   ],
   "source": [
    "# concat team scores\n",
    "df_team_strength = pd.concat([df_home, df_away], ignore_index=True).groupby('Team').mean()\n",
    "df_team_strength"
   ],
   "metadata": {
    "collapsed": false
   }
  },
  {
   "cell_type": "markdown",
   "source": [
    "# 2 predict points for team"
   ],
   "metadata": {
    "collapsed": false
   }
  },
  {
   "cell_type": "code",
   "execution_count": 78,
   "outputs": [],
   "source": [
    "def predict_points(home, away):\n",
    "    if home in df_team_strength.index and away in df_team_strength.index:\n",
    "        lamb_home = df_team_strength.at[home, 'GoalsScored'] * df_team_strength.at[away, 'GoalsConceded']\n",
    "        lamb_away = df_team_strength.at[away, 'GoalsScored'] * df_team_strength.at[home, 'GoalsConceded']\n",
    "        prob_home, prob_away, prob_draw = 0,0,0\n",
    "        for x in range(0, 11):\n",
    "            for y in range(0,11):\n",
    "                p = poisson.pmf(x, lamb_home) * poisson.pmf(y, lamb_away)\n",
    "                if x == y:\n",
    "                    prob_draw += p\n",
    "                elif x > y:\n",
    "                    prob_home += p\n",
    "                else:\n",
    "                    prob_away += p\n",
    "\n",
    "        points_home = 3 * prob_home + prob_draw\n",
    "        points_away = 3 * prob_away + prob_draw\n",
    "        return points_home, points_away\n",
    "    else:\n",
    "        return 0, 0\n"
   ],
   "metadata": {
    "collapsed": false
   }
  },
  {
   "cell_type": "markdown",
   "source": [
    "# Test For Winner in Matchup"
   ],
   "metadata": {
    "collapsed": false
   }
  },
  {
   "cell_type": "code",
   "execution_count": 109,
   "outputs": [
    {
     "data": {
      "text/plain": "(1.1382455184286462, 1.6068296893970255)"
     },
     "execution_count": 109,
     "metadata": {},
     "output_type": "execute_result"
    }
   ],
   "source": [
    "predict_points('England', 'France')"
   ],
   "metadata": {
    "collapsed": false
   }
  },
  {
   "cell_type": "code",
   "execution_count": 80,
   "outputs": [
    {
     "data": {
      "text/plain": "              team1     score             team2  year\n4  Winners Match 53  Match 58  Winners Match 54  2022\n5       Netherlands  Match 57         Argentina  2022\n6  Winners Match 55  Match 60  Winners Match 56  2022\n7           England  Match 59            France  2022",
      "text/html": "<div>\n<style scoped>\n    .dataframe tbody tr th:only-of-type {\n        vertical-align: middle;\n    }\n\n    .dataframe tbody tr th {\n        vertical-align: top;\n    }\n\n    .dataframe thead th {\n        text-align: right;\n    }\n</style>\n<table border=\"1\" class=\"dataframe\">\n  <thead>\n    <tr style=\"text-align: right;\">\n      <th></th>\n      <th>team1</th>\n      <th>score</th>\n      <th>team2</th>\n      <th>year</th>\n    </tr>\n  </thead>\n  <tbody>\n    <tr>\n      <th>4</th>\n      <td>Winners Match 53</td>\n      <td>Match 58</td>\n      <td>Winners Match 54</td>\n      <td>2022</td>\n    </tr>\n    <tr>\n      <th>5</th>\n      <td>Netherlands</td>\n      <td>Match 57</td>\n      <td>Argentina</td>\n      <td>2022</td>\n    </tr>\n    <tr>\n      <th>6</th>\n      <td>Winners Match 55</td>\n      <td>Match 60</td>\n      <td>Winners Match 56</td>\n      <td>2022</td>\n    </tr>\n    <tr>\n      <th>7</th>\n      <td>England</td>\n      <td>Match 59</td>\n      <td>France</td>\n      <td>2022</td>\n    </tr>\n  </tbody>\n</table>\n</div>"
     },
     "execution_count": 80,
     "metadata": {},
     "output_type": "execute_result"
    }
   ],
   "source": [
    "df_fixture_knockout = df_fixture[:4].copy()\n",
    "df_fixture_quarter = df_fixture[4:8].copy()\n",
    "df_fixture_knockout\n",
    "df_fixture_quarter"
   ],
   "metadata": {
    "collapsed": false
   }
  },
  {
   "cell_type": "code",
   "execution_count": 81,
   "outputs": [],
   "source": [
    "for group in group_table:\n",
    "    teams_in_group = group_table[group]['Team'].values\n",
    "    df_knockout = df_fixture_knockout[df_fixture_knockout['team1'].isin(teams_in_group)]\n",
    "    for index, row in df_knockout.iterrows():\n",
    "        home, away = row['team1'], row['team2']\n",
    "        points_home, points_away = predict_points(home,away)\n",
    "        group_table[group].loc[group_table[group]['Team'] == home, 'Pts'] += points_home\n",
    "        group_table[group].loc[group_table[group]['Team'] == away, 'Pts'] += points_away\n",
    "\n",
    "    group_table[group] = group_table[group].sort_values('Pts', ascending=False).reset_index()\n",
    "    group_table[group] = group_table[group][['Team', 'Pts']]\n",
    "    group_table[group] = group_table[group].round(0)"
   ],
   "metadata": {
    "collapsed": false
   }
  },
  {
   "cell_type": "code",
   "execution_count": 82,
   "outputs": [
    {
     "data": {
      "text/plain": "          Team  Pts\n0  Netherlands    7\n1      Senegal    6\n2      Ecuador    4\n3    Qatar (H)    0",
      "text/html": "<div>\n<style scoped>\n    .dataframe tbody tr th:only-of-type {\n        vertical-align: middle;\n    }\n\n    .dataframe tbody tr th {\n        vertical-align: top;\n    }\n\n    .dataframe thead th {\n        text-align: right;\n    }\n</style>\n<table border=\"1\" class=\"dataframe\">\n  <thead>\n    <tr style=\"text-align: right;\">\n      <th></th>\n      <th>Team</th>\n      <th>Pts</th>\n    </tr>\n  </thead>\n  <tbody>\n    <tr>\n      <th>0</th>\n      <td>Netherlands</td>\n      <td>7</td>\n    </tr>\n    <tr>\n      <th>1</th>\n      <td>Senegal</td>\n      <td>6</td>\n    </tr>\n    <tr>\n      <th>2</th>\n      <td>Ecuador</td>\n      <td>4</td>\n    </tr>\n    <tr>\n      <th>3</th>\n      <td>Qatar (H)</td>\n      <td>0</td>\n    </tr>\n  </tbody>\n</table>\n</div>"
     },
     "execution_count": 82,
     "metadata": {},
     "output_type": "execute_result"
    }
   ],
   "source": [
    "group_table['Group A']"
   ],
   "metadata": {
    "collapsed": false
   }
  },
  {
   "cell_type": "code",
   "execution_count": 83,
   "outputs": [
    {
     "data": {
      "text/plain": "      team1     score        team2  year\n0     Japan  Match 53      Croatia  2022\n1    Brazil  Match 54  South Korea  2022\n2   Morocco  Match 55        Spain  2022\n3  Portugal  Match 56  Switzerland  2022",
      "text/html": "<div>\n<style scoped>\n    .dataframe tbody tr th:only-of-type {\n        vertical-align: middle;\n    }\n\n    .dataframe tbody tr th {\n        vertical-align: top;\n    }\n\n    .dataframe thead th {\n        text-align: right;\n    }\n</style>\n<table border=\"1\" class=\"dataframe\">\n  <thead>\n    <tr style=\"text-align: right;\">\n      <th></th>\n      <th>team1</th>\n      <th>score</th>\n      <th>team2</th>\n      <th>year</th>\n    </tr>\n  </thead>\n  <tbody>\n    <tr>\n      <th>0</th>\n      <td>Japan</td>\n      <td>Match 53</td>\n      <td>Croatia</td>\n      <td>2022</td>\n    </tr>\n    <tr>\n      <th>1</th>\n      <td>Brazil</td>\n      <td>Match 54</td>\n      <td>South Korea</td>\n      <td>2022</td>\n    </tr>\n    <tr>\n      <th>2</th>\n      <td>Morocco</td>\n      <td>Match 55</td>\n      <td>Spain</td>\n      <td>2022</td>\n    </tr>\n    <tr>\n      <th>3</th>\n      <td>Portugal</td>\n      <td>Match 56</td>\n      <td>Switzerland</td>\n      <td>2022</td>\n    </tr>\n  </tbody>\n</table>\n</div>"
     },
     "execution_count": 83,
     "metadata": {},
     "output_type": "execute_result"
    }
   ],
   "source": [
    "df_fixture_knockout"
   ],
   "metadata": {
    "collapsed": false
   }
  },
  {
   "cell_type": "code",
   "execution_count": 84,
   "outputs": [
    {
     "data": {
      "text/plain": "      team1     score        team2  year winner\n0     Japan  Match 53      Croatia  2022      ?\n1    Brazil  Match 54  South Korea  2022      ?\n2   Morocco  Match 55        Spain  2022      ?\n3  Portugal  Match 56  Switzerland  2022      ?",
      "text/html": "<div>\n<style scoped>\n    .dataframe tbody tr th:only-of-type {\n        vertical-align: middle;\n    }\n\n    .dataframe tbody tr th {\n        vertical-align: top;\n    }\n\n    .dataframe thead th {\n        text-align: right;\n    }\n</style>\n<table border=\"1\" class=\"dataframe\">\n  <thead>\n    <tr style=\"text-align: right;\">\n      <th></th>\n      <th>team1</th>\n      <th>score</th>\n      <th>team2</th>\n      <th>year</th>\n      <th>winner</th>\n    </tr>\n  </thead>\n  <tbody>\n    <tr>\n      <th>0</th>\n      <td>Japan</td>\n      <td>Match 53</td>\n      <td>Croatia</td>\n      <td>2022</td>\n      <td>?</td>\n    </tr>\n    <tr>\n      <th>1</th>\n      <td>Brazil</td>\n      <td>Match 54</td>\n      <td>South Korea</td>\n      <td>2022</td>\n      <td>?</td>\n    </tr>\n    <tr>\n      <th>2</th>\n      <td>Morocco</td>\n      <td>Match 55</td>\n      <td>Spain</td>\n      <td>2022</td>\n      <td>?</td>\n    </tr>\n    <tr>\n      <th>3</th>\n      <td>Portugal</td>\n      <td>Match 56</td>\n      <td>Switzerland</td>\n      <td>2022</td>\n      <td>?</td>\n    </tr>\n  </tbody>\n</table>\n</div>"
     },
     "execution_count": 84,
     "metadata": {},
     "output_type": "execute_result"
    }
   ],
   "source": [
    "\n",
    "for group in group_table:\n",
    "    group_winner = group_table[group].loc[0, 'Team']\n",
    "    runners_up = group_table[group].loc[1, 'Team']\n",
    "    df_fixture_knockout.replace({f'Winners {group}':group_winner,\n",
    "                                 f'Runners-up {group}':runners_up}, inplace=True)\n",
    "\n",
    "df_fixture_knockout['winner'] = '?'\n",
    "df_fixture_knockout"
   ],
   "metadata": {
    "collapsed": false
   }
  },
  {
   "cell_type": "code",
   "execution_count": 85,
   "outputs": [],
   "source": [
    "\n",
    "def get_winner(df_fixture_updated):\n",
    "    for index, row in df_fixture_updated.iterrows():\n",
    "        home, away = row['team1'], row['team2']\n",
    "        points_home, points_away = predict_points(home, away)\n",
    "        if points_home > points_away:\n",
    "            winner = home\n",
    "        else:\n",
    "            winner = away\n",
    "        df_fixture_updated.loc[index, 'winner'] = winner\n",
    "    return df_fixture_updated\n"
   ],
   "metadata": {
    "collapsed": false
   }
  },
  {
   "cell_type": "code",
   "execution_count": 86,
   "outputs": [
    {
     "data": {
      "text/plain": "      team1     score        team2  year       winner\n0     Japan  Match 53      Croatia  2022      Croatia\n1    Brazil  Match 54  South Korea  2022       Brazil\n2   Morocco  Match 55        Spain  2022        Spain\n3  Portugal  Match 56  Switzerland  2022  Switzerland",
      "text/html": "<div>\n<style scoped>\n    .dataframe tbody tr th:only-of-type {\n        vertical-align: middle;\n    }\n\n    .dataframe tbody tr th {\n        vertical-align: top;\n    }\n\n    .dataframe thead th {\n        text-align: right;\n    }\n</style>\n<table border=\"1\" class=\"dataframe\">\n  <thead>\n    <tr style=\"text-align: right;\">\n      <th></th>\n      <th>team1</th>\n      <th>score</th>\n      <th>team2</th>\n      <th>year</th>\n      <th>winner</th>\n    </tr>\n  </thead>\n  <tbody>\n    <tr>\n      <th>0</th>\n      <td>Japan</td>\n      <td>Match 53</td>\n      <td>Croatia</td>\n      <td>2022</td>\n      <td>Croatia</td>\n    </tr>\n    <tr>\n      <th>1</th>\n      <td>Brazil</td>\n      <td>Match 54</td>\n      <td>South Korea</td>\n      <td>2022</td>\n      <td>Brazil</td>\n    </tr>\n    <tr>\n      <th>2</th>\n      <td>Morocco</td>\n      <td>Match 55</td>\n      <td>Spain</td>\n      <td>2022</td>\n      <td>Spain</td>\n    </tr>\n    <tr>\n      <th>3</th>\n      <td>Portugal</td>\n      <td>Match 56</td>\n      <td>Switzerland</td>\n      <td>2022</td>\n      <td>Switzerland</td>\n    </tr>\n  </tbody>\n</table>\n</div>"
     },
     "execution_count": 86,
     "metadata": {},
     "output_type": "execute_result"
    }
   ],
   "source": [
    "get_winner(df_fixture_knockout)"
   ],
   "metadata": {
    "collapsed": false
   }
  },
  {
   "cell_type": "code",
   "execution_count": 87,
   "outputs": [],
   "source": [
    "\n",
    "def update_table(df_fixture_round_1, df_fixture_round_2):\n",
    "    for index, row in df_fixture_round_1.iterrows():\n",
    "        winner = df_fixture_round_1.loc[index, 'winner']\n",
    "        match = df_fixture_round_1.loc[index, 'score']\n",
    "        df_fixture_round_2.replace({f'Winners {match}':winner}, inplace=True)\n",
    "    df_fixture_round_2['winner'] = '?'\n",
    "    return df_fixture_round_2\n",
    "\n"
   ],
   "metadata": {
    "collapsed": false
   }
  },
  {
   "cell_type": "code",
   "execution_count": 88,
   "outputs": [],
   "source": [
    "# update_table(df_fixture_knockout, df_fixture_quarter)\n",
    "# df_fixture_semi = df_fixture[60:62].copy()\n",
    "#df_fixture_final = df_fixture[62:].copy()"
   ],
   "metadata": {
    "collapsed": false
   }
  },
  {
   "cell_type": "code",
   "execution_count": 88,
   "outputs": [],
   "source": [],
   "metadata": {
    "collapsed": false
   }
  }
 ],
 "metadata": {
  "kernelspec": {
   "display_name": "Python 3",
   "language": "python",
   "name": "python3"
  },
  "language_info": {
   "codemirror_mode": {
    "name": "ipython",
    "version": 2
   },
   "file_extension": ".py",
   "mimetype": "text/x-python",
   "name": "python",
   "nbconvert_exporter": "python",
   "pygments_lexer": "ipython2",
   "version": "2.7.6"
  }
 },
 "nbformat": 4,
 "nbformat_minor": 0
}
